{
 "cells": [
  {
   "cell_type": "code",
   "execution_count": null,
   "metadata": {},
   "outputs": [
    {
     "name": "stdout",
     "output_type": "stream",
     "text": [
      "Requirement already satisfied: faiss-cpu in d:\\dev\\lotr_rag\\.conda\\lib\\site-packages (1.10.0)\n",
      "Requirement already satisfied: numpy<3.0,>=1.25.0 in d:\\dev\\lotr_rag\\.conda\\lib\\site-packages (from faiss-cpu) (2.0.1)\n",
      "Requirement already satisfied: packaging in c:\\users\\user\\appdata\\roaming\\python\\python311\\site-packages (from faiss-cpu) (24.2)\n"
     ]
    }
   ],
   "source": [
    "# !pip install faiss-cpu"
   ]
  },
  {
   "cell_type": "markdown",
   "metadata": {},
   "source": [
    "# Library"
   ]
  },
  {
   "cell_type": "code",
   "execution_count": 1,
   "metadata": {},
   "outputs": [],
   "source": [
    "import os\n",
    "\n",
    "\n",
    "os.chdir(\"../\")"
   ]
  },
  {
   "cell_type": "code",
   "execution_count": 2,
   "metadata": {},
   "outputs": [],
   "source": [
    "\n",
    "from langchain.embeddings import HuggingFaceEmbeddings\n",
    "from langchain.vectorstores import FAISS\n",
    "\n"
   ]
  },
  {
   "cell_type": "markdown",
   "metadata": {},
   "source": [
    "# Load Emberding Model"
   ]
  },
  {
   "cell_type": "code",
   "execution_count": 3,
   "metadata": {},
   "outputs": [
    {
     "name": "stderr",
     "output_type": "stream",
     "text": [
      "C:\\Users\\User\\AppData\\Local\\Temp\\ipykernel_22516\\3614191810.py:4: LangChainDeprecationWarning: The class `HuggingFaceEmbeddings` was deprecated in LangChain 0.2.2 and will be removed in 1.0. An updated version of the class exists in the :class:`~langchain-huggingface package and should be used instead. To use it run `pip install -U :class:`~langchain-huggingface` and import as `from :class:`~langchain_huggingface import HuggingFaceEmbeddings``.\n",
      "  embedding_model=HuggingFaceEmbeddings(model_name='sentence-transformers/all-mpnet-base-v2',\n"
     ]
    }
   ],
   "source": [
    "device = 'cpu'\n",
    "# device = 'cuda' if torch.cuda.is_available() else 'cpu'\n",
    "\n",
    "embedding_model=HuggingFaceEmbeddings(model_name='sentence-transformers/all-mpnet-base-v2',\n",
    "                                      model_kwargs = {'device': device})"
   ]
  },
  {
   "cell_type": "markdown",
   "metadata": {},
   "source": [
    "# Load Vector DB"
   ]
  },
  {
   "cell_type": "code",
   "execution_count": 4,
   "metadata": {},
   "outputs": [],
   "source": [
    "\n",
    "# Load the Vector Database\n",
    "vectorstore = FAISS.load_local(folder_path=\"vector_db/faiss_index_hybride_all_books\",\n",
    "                               embeddings=embedding_model,\n",
    "                               allow_dangerous_deserialization=True)"
   ]
  },
  {
   "cell_type": "markdown",
   "metadata": {},
   "source": [
    "# Query"
   ]
  },
  {
   "cell_type": "code",
   "execution_count": 5,
   "metadata": {},
   "outputs": [
    {
     "name": "stdout",
     "output_type": "stream",
     "text": [
      "Frodo -> 0.3093037009239197\n",
      "------\n",
      "Frodo The Ringbearer. Fuinur A renegade Númenórean who became mighty among the Haradrim at the end of the Second Age. -> 0.42130041122436523\n",
      "------\n",
      "He is an elf-lord of a house of princes.' 'Then there are still some powers left that can withstand the Lord of Mordor,' said Frodo. -> 0.5524365901947021\n",
      "------\n",
      "Frodo at all. All this is boring, I am sure, because it is apparently self-centred; but I am old enough (alas!) to take a dispassionate and scientific, properly so-called, interest in these matters, and cite myself simply because I am interested in mythological -> 0.5725749731063843\n",
      "------\n",
      "Frodo, or Frodo the Second, was the great-great-grandson of Frodo the First (otherwise known as the Old Took), and the heir and rather desperate hope of the Hole of Took, as the clan was called. -> 0.575434684753418\n",
      "------\n",
      "character, the successor to Bilbo of the first book, the genuine hobbit. Frodo is not so interesting, because he has to be highminded, and has (as it were) a vocation. The book will prob. end up with Sam. Frodo will naturally become too -> 0.5815301537513733\n",
      "------\n",
      "‘Who is that?’ Frodo asked, when he got a chance to whisper to Mr. Butterbur. ‘I don’t think you introduced him?’ ‘Him?’ said the landlord in an answering whisper, cocking an eye without turning his head. ‘I don’t rightly know. He is one of the wandering folk – -> 0.6018446683883667\n",
      "------\n",
      "what is he doing in this part of the world?’ ‘There are some Men about,’ said Frodo. ‘Down in the Southfarthing they have had trouble with Big People, I believe. But I have never heard of anything like this rider. I wonder where he comes from.’ -> 0.6118630170822144\n",
      "------\n",
      "face that does not come out in his talk. I’ve heard that he used to go into the Old Forest at one time, and he has the reputation of knowing a good many strange things. But you can at least tell us, Frodo, whether you think his guess good or bad.’ ‘I think -> 0.6467909812927246\n",
      "------\n",
      "is he doing in this part of the world?’ ‘There are some Men about,’ said Frodo. ‘Down in the Southfarthing they have had trouble with Big People, I believe. But I have never heard of anything like this rider. I wonder where he comes from.’ -> 0.6532978415489197\n",
      "------\n"
     ]
    }
   ],
   "source": [
    "# query_text = \"What clues did Aragorn find on the hill that helped him track Frodo, and how did his observations influence his next actions?\"\n",
    "query_text = \"who is frodo?\"\n",
    "emd_query = embedding_model.embed_query(query_text)\n",
    "\n",
    "results_emd = vectorstore.similarity_search_with_score_by_vector(emd_query, k=10)\n",
    "\n",
    "#  when vector rize contentx its should be unique\\\n",
    "results_emd[0][0].page_content\n",
    "for result in results_emd:\n",
    "    print(f\"{result[0].page_content} -> {result[1]}\")\n",
    "    # print(\"Metadata:\", result.metadata)\n",
    "    print(\"------\")"
   ]
  }
 ],
 "metadata": {
  "kernelspec": {
   "display_name": "Python 3",
   "language": "python",
   "name": "python3"
  },
  "language_info": {
   "codemirror_mode": {
    "name": "ipython",
    "version": 3
   },
   "file_extension": ".py",
   "mimetype": "text/x-python",
   "name": "python",
   "nbconvert_exporter": "python",
   "pygments_lexer": "ipython3",
   "version": "3.11.11"
  }
 },
 "nbformat": 4,
 "nbformat_minor": 2
}
