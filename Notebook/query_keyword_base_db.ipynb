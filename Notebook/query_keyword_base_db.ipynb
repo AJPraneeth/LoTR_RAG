{
 "cells": [
  {
   "cell_type": "code",
   "execution_count": 6,
   "metadata": {},
   "outputs": [],
   "source": [
    "import os\n",
    "\n",
    "\n",
    "os.chdir(\"../\")"
   ]
  },
  {
   "cell_type": "markdown",
   "metadata": {},
   "source": [
    "# Libraries"
   ]
  },
  {
   "cell_type": "code",
   "execution_count": 10,
   "metadata": {},
   "outputs": [],
   "source": [
    "from whoosh.index import open_dir\n",
    "from whoosh.qparser import QueryParser"
   ]
  },
  {
   "cell_type": "markdown",
   "metadata": {},
   "source": [
    "# Load DB"
   ]
  },
  {
   "cell_type": "code",
   "execution_count": 7,
   "metadata": {},
   "outputs": [],
   "source": [
    "KEY_WORD_BASE_INDEX_DIR=\"key_word_index\""
   ]
  },
  {
   "cell_type": "code",
   "execution_count": 8,
   "metadata": {},
   "outputs": [],
   "source": [
    "ix = open_dir(KEY_WORD_BASE_INDEX_DIR)"
   ]
  },
  {
   "cell_type": "markdown",
   "metadata": {},
   "source": [
    "# Query"
   ]
  },
  {
   "cell_type": "code",
   "execution_count": null,
   "metadata": {},
   "outputs": [],
   "source": [
    "# Open the index for querying.\n",
    "with ix.searcher() as searcher:\n",
    "    # Create a query parser for the \"content\" field.\n",
    "    parser = QueryParser(\"content\", ix.schema)\n",
    "    \n",
    "    # Parse your query text. Replace \"two towers\" with your actual query.\n",
    "    query = parser.parse(\"book three contents\")\n",
    "    \n",
    "    # Execute the search and limit to 10 results.\n",
    "    results = searcher.search(query, limit=10)\n",
    "    # candidate_ids = set(hit[\"page\"] for hit in results)\n",
    "    # # Iterate over the results and print out the document fields.\n",
    "    for hit in results:\n",
    "        print(hit.fields())\n",
    "        print(hit.score)\n",
    "\n",
    "        print(\"------\")"
   ]
  }
 ],
 "metadata": {
  "kernelspec": {
   "display_name": "Python 3",
   "language": "python",
   "name": "python3"
  },
  "language_info": {
   "codemirror_mode": {
    "name": "ipython",
    "version": 3
   },
   "file_extension": ".py",
   "mimetype": "text/x-python",
   "name": "python",
   "nbconvert_exporter": "python",
   "pygments_lexer": "ipython3",
   "version": "3.11.11"
  }
 },
 "nbformat": 4,
 "nbformat_minor": 2
}
